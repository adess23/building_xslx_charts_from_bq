{
 "metadata": {
  "language_info": {
   "codemirror_mode": {
    "name": "ipython",
    "version": 3
   },
   "file_extension": ".py",
   "mimetype": "text/x-python",
   "name": "python",
   "nbconvert_exporter": "python",
   "pygments_lexer": "ipython3",
   "version": "3.7.9-final"
  },
  "orig_nbformat": 2,
  "kernelspec": {
   "name": "python3",
   "display_name": "Python 3.7.9 64-bit ('myenv': conda)",
   "metadata": {
    "interpreter": {
     "hash": "3d24bd2b2a65eaa51041457a935d2da9b93da87292a99155a40b150bb4d3b0f9"
    }
   }
  }
 },
 "nbformat": 4,
 "nbformat_minor": 2,
 "cells": [
  {
   "cell_type": "code",
   "execution_count": 85,
   "metadata": {},
   "outputs": [
    {
     "output_type": "stream",
     "name": "stdout",
     "text": [
      "Requirement already satisfied: pyarrow in c:\\users\\jose.pena\\miniconda3\\envs\\myenv\\lib\\site-packages (3.0.0)\n",
      "Requirement already satisfied: numpy>=1.16.6 in c:\\users\\jose.pena\\miniconda3\\envs\\myenv\\lib\\site-packages (from pyarrow) (1.19.1)\n"
     ]
    }
   ],
   "source": [
    "#pip install --upgrade google-cloud-bigquery\n",
    "#!pip install openpyxl\n",
    "#!pip install --upgrade google-cloud-bigquery[bqstorage,pandas]\n",
    "#!pip install pyarrow\n"
   ]
  },
  {
   "cell_type": "code",
   "execution_count": 1,
   "metadata": {},
   "outputs": [],
   "source": [
    "from google.cloud import bigquery\n",
    "from google.cloud import bigquery_storage\n",
    "from google.oauth2 import service_account\n",
    "import openpyxl\n",
    "from openpyxl.chart import BarChart, Reference, Series\n",
    "import csv\n",
    "from email.mime.multipart import MIMEMultipart\n",
    "from email.mime.base import MIMEBase\n",
    "from email.mime.text import MIMEText \n",
    "from email import encoders\n",
    "import smtplib\n",
    "\n",
    "def buildWorkbook(df_notstarted, df_notmoved, period, sheet):\n",
    "    \n",
    "    #List trackers and VINs rows for period\n",
    "    rows = [\n",
    "        ('Not started in ' + period, '', '', '', 'Not moved in ' + period, '', '', '', len(df_notstarted), len(df_notmoved)),\n",
    "        ('VIN', 'TrackerId', '' , '', 'VIN', 'TrackerId')\n",
    "    ]\n",
    "    if len(df_notstarted) > len(df_notmoved):\n",
    "        for i in range(len(df_notstarted)):\n",
    "            if(i >= len(df_notmoved)):\n",
    "                rows.append([df_notstarted.iloc[i].vin, df_notstarted.iloc[i].trackerId])\n",
    "            else:\n",
    "                rows.append([df_notstarted.iloc[i].vin, df_notstarted.iloc[i].trackerId, \n",
    "                '', '', df_notmoved.iloc[i].vin, df_notmoved.iloc[i].trackerId])\n",
    "    else:\n",
    "        for i in range(len(df_notmoved)):\n",
    "            if(i >= len(df_notstarted)):\n",
    "                rows.append(['', '', '', '', df_notmoved.iloc[i].vin, df_notmoved.iloc[i].trackerId])\n",
    "            else:\n",
    "                rows.append([df_notstarted.iloc[i].vin, df_notstarted.iloc[i].trackerId, \n",
    "                '', '', df_notmoved.iloc[i].vin, df_notmoved.iloc[i].trackerId])\n",
    "\n",
    "    for row in rows:\n",
    "        sheet.append(row)\n",
    "\n",
    "    chart = BarChart()\n",
    "    chart.title = period\n",
    "    chart.x_axis.title = \"Not started / Not moved\"\n",
    "    chart.y_axis.title = \"Vehicles\"\n",
    "\n",
    "    # Not started series\n",
    "    values_notstarted = Reference(sheet, min_col=9, min_row=1)\n",
    "    series_notstarted = Series(values_notstarted, title='Not started')\n",
    "    chart.append(series_notstarted)\n",
    "\n",
    "    # Not moved series\n",
    "    values_notmoved = Reference(sheet, min_col=10, min_row=1)\n",
    "    series_notmoved = Series(values_notmoved, title='Not moved')\n",
    "    chart.append(series_notmoved)\n",
    "\n",
    "    labels = Reference(sheet, min_col=4, min_row=1)\n",
    "    chart.set_categories(labels)\n",
    "    sheet.add_chart(chart, \"I5\")\n",
    "\n",
    "    return sheet\n"
   ]
  },
  {
   "cell_type": "code",
   "execution_count": 2,
   "metadata": {},
   "outputs": [],
   "source": [
    "key_path = \"C:/{local path}/us-auto-dev-d4b39c64167a.json\"\n",
    "cred= service_account.Credentials.from_service_account_file(\n",
    "    key_path, scopes=[\"https://www.googleapis.com/auth/cloud-platform\"],\n",
    ")\n",
    "client = bigquery.Client(credentials=cred, project=cred.project_id )\n",
    "bqstorageclient = bigquery_storage.BigQueryReadClient(credentials=cred)"
   ]
  },
  {
   "cell_type": "code",
   "execution_count": 14,
   "metadata": {},
   "outputs": [
    {
     "output_type": "execute_result",
     "data": {
      "text/plain": [
       "(221, b'2.0.0 closing connection m18sm2409693vka.54 - gsmtp')"
      ]
     },
     "metadata": {},
     "execution_count": 14
    }
   ],
   "source": [
    "period_30 = \"30 days\"\n",
    "period_45 = \"45 days\"\n",
    "period_60 = \"60 days\"\n",
    "period_90 = \"90 days\"\n",
    "query_string = \"\"\"SELECT * FROM `us-auto-dev.kernersville.vehicles_notmoved_or_started`\"\"\"\n",
    "df = (\n",
    "    client.query(query_string)\n",
    "    .result()\n",
    "    .to_dataframe(bqstorage_client=bqstorageclient))\n",
    "\n",
    "df_notstarted_30 = df[['vin', 'trackerId']][df.notstarted_last30days == True]\n",
    "df_notmoved_30 = df[['vin', 'trackerId']][df.notmoved_last30days == True]\n",
    "df_notstarted_45 = df[['vin', 'trackerId']][df.notstarted_btw30and45days == True]\n",
    "df_notmoved_45 = df[['vin', 'trackerId']][df.notmoved_btw30and45days == True]\n",
    "df_notstarted_60 = df[['vin', 'trackerId']][df.notstarted_btw45and60days == True]\n",
    "df_notmoved_60 = df[['vin', 'trackerId']][df.notmoved_btw45and60days == True]\n",
    "df_notstarted_90 = df[['vin', 'trackerId']][df.notstarted_btw60and90days == True]\n",
    "df_notmoved_90 = df[['vin', 'trackerId']][df.notmoved_btw60and90days == True]\n",
    "\n",
    "wb = openpyxl.Workbook()\n",
    "sheet1 = wb.active\n",
    "sheet1.title = period_30\n",
    "buildWorkbook(df_notstarted_30, df_notmoved_30, period_30, sheet1)\n",
    "sheet2 = wb.create_sheet(period_45)\n",
    "buildWorkbook(df_notstarted_45, df_notmoved_45, period_45, sheet2)\n",
    "sheet3 = wb.create_sheet(period_60)\n",
    "buildWorkbook(df_notstarted_60, df_notmoved_60, period_60, sheet3)\n",
    "sheet4 = wb.create_sheet(period_90)\n",
    "buildWorkbook(df_notstarted_90, df_notmoved_90, period_90, sheet4)\n",
    "\n",
    "wb.save(\"kernersville_metrics.xlsx\")\n",
    "import csv\n",
    "from email.mime.multipart import MIMEMultipart\n",
    "from email.mime.base import MIMEBase\n",
    "from email.mime.text import MIMEText \n",
    "from email import encoders\n",
    "import smtplib\n",
    "\n",
    "me = {gmailsending}\n",
    "password = {password}\n",
    "server = \"smtp.gmail.com:587\"\n",
    "you = {emailreceiver}\n",
    "\n",
    "\n",
    "html = \"\"\"\n",
    "<html><body><p>Hello, Friend.</p>\n",
    "<p>Here is your data.</p>\n",
    "\n",
    "<p>Regards,</p>\n",
    "<p>Me</p>\n",
    "</body></html>\n",
    "\"\"\"\n",
    "\n",
    "message = MIMEMultipart(\"alternative\", None, [ MIMEText(html, 'html')])\n",
    "\n",
    "message['Subject'] = \"Your data\"\n",
    "message['From'] = me\n",
    "message['To'] = you\n",
    "\n",
    "part = MIMEBase('application', 'octet-stream')\n",
    "part.set_payload(open('kernersville_metrics.xlsx', 'rb').read())\n",
    "encoders.encode_base64(part)\n",
    "part.add_header('Content-Disposition', 'attachment; filename=\"kernersville_metrics.xlsx\"')\n",
    "message.attach(part)\n",
    "\n",
    "\n",
    "server = smtplib.SMTP(server)\n",
    "server.ehlo()\n",
    "server.starttls()\n",
    "server.login(me, password)\n",
    "server.sendmail(me, you, message.as_string())\n",
    "server.quit()"
   ]
  },
  {
   "cell_type": "code",
   "execution_count": null,
   "metadata": {},
   "outputs": [],
   "source": []
  }
 ]
}